{
 "cells": [
  {
   "cell_type": "code",
   "execution_count": 1,
   "metadata": {},
   "outputs": [],
   "source": [
    "import pandas as pd\n",
    "\n",
    "flight_df = pd.read_csv(\"flights_historical/train_1.csv\")\n",
    "\n",
    "# reformat departure_time\n",
    "flight_df['departure_time'] = flight_df['departure_time'].apply(str).apply(lambda x: '0'+x if len(x) != 4 else x)\n",
    "\n",
    "# reformat the dates\n",
    "flight_df['month'] = flight_df['month'].apply(lambda x: '0'+x[2:] if len(x) != 4 else x[2:])\n",
    "flight_df['day_of_month'] = flight_df['day_of_month'].apply(lambda x: '0'+x[2:] if len(x) != 4 else x[2:])\n",
    "flight_df['day_of_week'] = flight_df['day_of_week'].apply(lambda x: x[2:])\n",
    "flight_df['is_delayed'] = flight_df['is_delayed'].astype('category').cat.codes\n",
    "\n",
    "flight_df[['departure_time', 'month', 'day_of_month', 'day_of_week']] = flight_df[['departure_time', 'month', 'day_of_month', 'day_of_week']].apply(pd.to_numeric)\n",
    "\n",
    "# flight_df"
   ]
  },
  {
   "cell_type": "code",
   "execution_count": 2,
   "metadata": {},
   "outputs": [],
   "source": [
    "# one-hot encoding/dummy variables for categorical data\n",
    "dummy_df = flight_df.copy()\n",
    "dummy_df = pd.get_dummies(dummy_df, columns=['unique_carrier', 'origin', 'destination'], drop_first=True)\n",
    "dummy_df = dummy_df.rename(columns = {'is_delayed': 'target'})\n",
    "\n",
    "numeric_cols = ['departure_time', 'month', 'day_of_month', 'day_of_week', 'distance']\n",
    "category_cols = list(set(dummy_df.columns) - set(numeric_cols) - {'target'})\n",
    "category_cols.sort()\n",
    "\n",
    "# dummy_df"
   ]
  },
  {
   "cell_type": "code",
   "execution_count": 3,
   "metadata": {},
   "outputs": [],
   "source": [
    "# train-test split\n",
    "from sklearn.model_selection import train_test_split\n",
    "\n",
    "random_seed = 1147\n",
    "\n",
    "train_df, test_df = train_test_split(dummy_df,test_size=0.20,random_state=random_seed, stratify=dummy_df['target'])\n",
    "\n",
    "# train_df"
   ]
  },
  {
   "cell_type": "code",
   "execution_count": 4,
   "metadata": {},
   "outputs": [],
   "source": [
    "# scaling numeric columns\n",
    "\n",
    "from sklearn.preprocessing import StandardScaler\n",
    "import numpy as np\n",
    "\n",
    "scaler = StandardScaler()\n",
    "scaler.fit(train_df[numeric_cols])\n",
    "\n",
    "def get_features_and_target_arrays(df, numeric_cols, cat_cols, scaler):\n",
    "    X_numeric_scaled = scaler.transform(df[numeric_cols])\n",
    "    X_categorical = df[cat_cols].to_numpy()\n",
    "    X = np.hstack((X_categorical, X_numeric_scaled))\n",
    "    y = df['target']\n",
    "    return X, y\n",
    "\n",
    "X_train, y_train = get_features_and_target_arrays(train_df, numeric_cols, category_cols, scaler)\n",
    "X_test, y_test = get_features_and_target_arrays(test_df, numeric_cols, category_cols, scaler)"
   ]
  },
  {
   "cell_type": "code",
   "execution_count": 5,
   "metadata": {},
   "outputs": [],
   "source": [
    "# default decision tree\n",
    "from sklearn.tree import DecisionTreeClassifier, plot_tree\n",
    "dtree = DecisionTreeClassifier()\n",
    "dtree.fit(X_train,y_train)\n",
    "y_pred_dt = dtree.predict(X_test)"
   ]
  },
  {
   "cell_type": "code",
   "execution_count": 6,
   "metadata": {},
   "outputs": [
    {
     "data": {
      "image/png": "[encoded data removed]",
      "text/plain": [
       "<Figure size 432x288 with 2 Axes>"
      ]
     },
     "metadata": {
      "needs_background": "light"
     },
     "output_type": "display_data"
    },
    {
     "name": "stdout",
     "output_type": "stream",
     "text": [
      "Performance metrics for Decision Tree\n",
      "Accuracy = 0.75400\n",
      "Precision = 0.34177\n",
      "Recall = 0.31505\n",
      "F1 score = 0.32787\n",
      "\n"
     ]
    }
   ],
   "source": [
    "from sklearn.metrics import log_loss, roc_auc_score, recall_score, precision_score, average_precision_score, f1_score, classification_report, accuracy_score, plot_roc_curve, plot_precision_recall_curve, plot_confusion_matrix, confusion_matrix\n",
    "import numpy as np\n",
    "import matplotlib.pyplot as plt\n",
    "import seaborn as sns\n",
    "%matplotlib inline\n",
    "\n",
    "def get_confusion_heatmap(matrix, title):\n",
    "    class_names=[0,1] # name  of classes\n",
    "    fig, ax = plt.subplots()\n",
    "    tick_marks = np.arange(len(class_names))\n",
    "    plt.xticks(tick_marks, class_names)\n",
    "    plt.yticks(tick_marks, class_names)\n",
    "    # create heatmap\n",
    "    sns.heatmap(pd.DataFrame(matrix), annot=True, cmap=\"YlGnBu\" ,fmt='g')\n",
    "    ax.xaxis.set_label_position(\"top\")\n",
    "    plt.tight_layout()\n",
    "    plt.title('Confusion matrix: ' + title, y=1.1)\n",
    "    plt.ylabel('Actual label')\n",
    "    plt.xlabel('Predicted label')\n",
    "    plt.savefig(f'graphs/{title}.png')\n",
    "    \n",
    "    return plt.show()\n",
    "\n",
    "def get_performance_metrics(y_test, y_pred, title):\n",
    "    print('Performance metrics for', title)\n",
    "    acc = accuracy_score(y_test, y_pred)\n",
    "    precision = precision_score(y_test, y_pred)\n",
    "    recall = recall_score(y_test, y_pred)\n",
    "    f1score = f1_score(y_test, y_pred)\n",
    "    \n",
    "    print('Accuracy = {:.5f}'.format(acc))\n",
    "    print('Precision = {:.5f}'.format(precision))\n",
    "    print('Recall = {:.5f}'.format(recall))\n",
    "    print('F1 score = {:.5f}'.format(f1score))\n",
    "    print()\n",
    "          \n",
    "    return [acc, precision, recall, f1score]\n",
    "          \n",
    "# decision tree\n",
    "dt_matrix = confusion_matrix(y_test, y_pred_dt)\n",
    "dt_heatmap = get_confusion_heatmap(dt_matrix, 'Decision Tree Tuning')\n",
    "dt_perf = get_performance_metrics(y_test, y_pred_dt, 'Decision Tree')"
   ]
  },
  {
   "cell_type": "code",
   "execution_count": 7,
   "metadata": {},
   "outputs": [
    {
     "name": "stdout",
     "output_type": "stream",
     "text": [
      "Fitting 5 folds for each of 6 candidates, totalling 30 fits\n"
     ]
    },
    {
     "data": {
      "text/plain": [
       "{'criterion': 'entropy', 'min_samples_split': 10}"
      ]
     },
     "execution_count": 7,
     "metadata": {},
     "output_type": "execute_result"
    }
   ],
   "source": [
    "# hyperparameter tuning - maximising f1 score\n",
    "\n",
    "# DecisionTreeClassifier(*, criterion='gini', splitter='best', max_depth=None, min_samples_split=2, \n",
    "#                        min_samples_leaf=1, min_weight_fraction_leaf=0.0, max_features=None, random_state=None, \n",
    "#                        max_leaf_nodes=None, min_impurity_decrease=0.0, min_impurity_split=None, class_weight=None, \n",
    "#                        ccp_alpha=0.0)\n",
    "\n",
    "# grid search for best hyperparameters\n",
    "from sklearn.model_selection import GridSearchCV\n",
    "parameters = {'criterion':['gini','entropy'],'min_samples_split': [5, 10, 20]}\n",
    "gridsearch = GridSearchCV(DecisionTreeClassifier(), parameters, verbose=1, scoring='f1')\n",
    "gridsearch.fit(X_train, y_train)\n",
    "\n",
    "gridsearch.best_params_"
   ]
  },
  {
   "cell_type": "code",
   "execution_count": 8,
   "metadata": {},
   "outputs": [],
   "source": [
    "# best hyperparameters?\n",
    "fdtree = DecisionTreeClassifier(criterion = 'entropy', min_samples_split = 10)\n",
    "fdtree.fit(X_train,y_train)\n",
    "y_pred_fdt = fdtree.predict(X_test)"
   ]
  },
  {
   "cell_type": "code",
   "execution_count": 9,
   "metadata": {},
   "outputs": [
    {
     "data": {
      "image/png": "[encoded data removed]",
      "text/plain": [
       "<Figure size 432x288 with 2 Axes>"
      ]
     },
     "metadata": {
      "needs_background": "light"
     },
     "output_type": "display_data"
    },
    {
     "name": "stdout",
     "output_type": "stream",
     "text": [
      "Performance metrics for Final Decision Tree\n",
      "Accuracy = 0.75367\n",
      "Precision = 0.33519\n",
      "Recall = 0.29842\n",
      "F1 score = 0.31574\n",
      "\n"
     ]
    }
   ],
   "source": [
    "# final decision tree?\n",
    "fdt_matrix = confusion_matrix(y_test, y_pred_fdt)\n",
    "fdt_heatmap = get_confusion_heatmap(fdt_matrix, 'Decision Tree Final3')\n",
    "fdt_perf = get_performance_metrics(y_test, y_pred_fdt, 'Final Decision Tree')"
   ]
  }
 ],
 "metadata": {
  "kernelspec": {
   "display_name": "maxis",
   "language": "python",
   "name": "maxis"
  },
  "language_info": {
   "codemirror_mode": {
    "name": "ipython",
    "version": 3
   },
   "file_extension": ".py",
   "mimetype": "text/x-python",
   "name": "python",
   "nbconvert_exporter": "python",
   "pygments_lexer": "ipython3",
   "version": "3.8.5"
  }
 },
 "nbformat": 4,
 "nbformat_minor": 4
}
